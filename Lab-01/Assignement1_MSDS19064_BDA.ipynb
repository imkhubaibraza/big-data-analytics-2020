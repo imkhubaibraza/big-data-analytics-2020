{
  "nbformat": 4,
  "nbformat_minor": 0,
  "metadata": {
    "kernelspec": {
      "display_name": "Python 3",
      "language": "python",
      "name": "python3"
    },
    "language_info": {
      "codemirror_mode": {
        "name": "ipython",
        "version": 3
      },
      "file_extension": ".py",
      "mimetype": "text/x-python",
      "name": "python",
      "nbconvert_exporter": "python",
      "pygments_lexer": "ipython3",
      "version": "3.7.3"
    },
    "colab": {
      "name": "Assignement1-MSDS19064-BDA.ipynb",
      "provenance": []
    }
  },
  "cells": [
    {
      "cell_type": "markdown",
      "metadata": {
        "id": "vfNaIbbf0Mqy",
        "colab_type": "text"
      },
      "source": [
        "# MUHAMMAD KHUBAIB RAZA \n",
        "#### Lab 1"
      ]
    },
    {
      "cell_type": "markdown",
      "metadata": {
        "id": "BMXMFeJa0Mq0",
        "colab_type": "text"
      },
      "source": [
        "#### import libraries"
      ]
    },
    {
      "cell_type": "code",
      "metadata": {
        "id": "tfvheFUX0Mq2",
        "colab_type": "code",
        "colab": {}
      },
      "source": [
        "import psycopg2 as psy"
      ],
      "execution_count": 0,
      "outputs": []
    },
    {
      "cell_type": "markdown",
      "metadata": {
        "id": "zFc1TFRo0Mq7",
        "colab_type": "text"
      },
      "source": [
        "#### Build connection"
      ]
    },
    {
      "cell_type": "code",
      "metadata": {
        "id": "2jv4CaDY0Mq8",
        "colab_type": "code",
        "colab": {}
      },
      "source": [
        "conn = psy.connect(user = \"postgres\",\n",
        "                        password = \"12345678\",\n",
        "                        host = \"127.0.0.1\",\n",
        "                        port = \"5432\")"
      ],
      "execution_count": 0,
      "outputs": []
    },
    {
      "cell_type": "code",
      "metadata": {
        "id": "sKNIr0u60MrA",
        "colab_type": "code",
        "colab": {}
      },
      "source": [
        "try: \n",
        "    cur = conn.cursor()\n",
        "except psycopg2.Error as e: \n",
        "    print(\"Error: Could not get curser to the Database\")\n",
        "    print(e)"
      ],
      "execution_count": 0,
      "outputs": []
    },
    {
      "cell_type": "code",
      "metadata": {
        "id": "XSF9LAfk0MrF",
        "colab_type": "code",
        "colab": {}
      },
      "source": [
        "#droping tabels and database\n",
        "# cur.execute(\"\"\"DROP Table Transactions\"\"\")\n",
        "# cur.execute(\"\"\"DELETE FROM Customer_Details\"\"\");\n"
      ],
      "execution_count": 0,
      "outputs": []
    },
    {
      "cell_type": "markdown",
      "metadata": {
        "id": "hKpM7xxO0MrJ",
        "colab_type": "text"
      },
      "source": [
        "#### Creating Database"
      ]
    },
    {
      "cell_type": "code",
      "metadata": {
        "id": "bVRki_Yo0MrL",
        "colab_type": "code",
        "colab": {}
      },
      "source": [
        "conn.set_session(autocommit=True)\n",
        "cur.execute(\"\"\"CREATE DATABASE Store\"\"\")\n"
      ],
      "execution_count": 0,
      "outputs": []
    },
    {
      "cell_type": "markdown",
      "metadata": {
        "id": "kaVN_DX40MrQ",
        "colab_type": "text"
      },
      "source": [
        "#### Creating Tabels"
      ]
    },
    {
      "cell_type": "code",
      "metadata": {
        "id": "ZuXIg7a00MrR",
        "colab_type": "code",
        "colab": {}
      },
      "source": [
        "cur.execute(\"\"\"CREATE TABLE Customer_Details ( \n",
        "    Customer_ID varchar(255), \n",
        "    Customer_name varchar(255), \n",
        "    Address varchar(255), \n",
        "    City varchar(255), \n",
        "    Country varchar(255) \n",
        "\n",
        ");\"\"\") \n",
        "\n",
        "#Transactions \n",
        "\n",
        "cur.execute(\"\"\"CREATE TABLE Transactions ( \n",
        "    Transaction_ID varchar(255), \n",
        "    Item_ID varchar(255), \n",
        "    Customer_ID varchar(255), \n",
        "    Time date\n",
        ");\"\"\") \n",
        "#Items\n",
        "cur.execute(\"\"\"CREATE TABLE Items (\n",
        "    Item_ID varchar(255),\n",
        "    Item_name varchar(255),\n",
        "    Price int\n",
        "    );\"\"\")"
      ],
      "execution_count": 0,
      "outputs": []
    },
    {
      "cell_type": "markdown",
      "metadata": {
        "id": "zWq4ZKzi0MrW",
        "colab_type": "text"
      },
      "source": [
        "#### insert values in Table"
      ]
    },
    {
      "cell_type": "code",
      "metadata": {
        "id": "buPIW0tT0MrX",
        "colab_type": "code",
        "colab": {}
      },
      "source": [
        "#Customer table values insert\n",
        "query_customer = \"INSERT INTO Customer_Details (Customer_ID, Customer_name, Address, City, Country) \\\n",
        "                 VALUES (%s, %s, %s, %s, %s)\"\n",
        "\n",
        "data_customer = [(\"1\",\"Ahmad\",\"52-A Main Street\",\"Lahore\",\"Pakistan\"),\n",
        "        (\"2\",\"Ali\",\"65-B Cinema Street\",\"Multan\",\"Pakistan\"),\n",
        "        (\"3\",\"Faisal\",\"21-B Block 2\",\"Antwerp\",\"Belgium\"),\n",
        "        (\"4\",\"Mudassir\",\"42 XX,Phase x\",\"Lahore\",\"Pakistan\")]\n",
        "\n",
        "try:\n",
        "    cur.executemany(query_customer,data_customer)\n",
        "except psy.Error as e: \n",
        "    print(\"Error: Inserting Rows\")\n",
        "    print (e)\n",
        "    \n",
        "#Transactions table values insert\n",
        "query_transaction = \"INSERT INTO Transactions (Transaction_ID, Item_ID, Customer_ID, Time) \\\n",
        "                 VALUES (%s, %s, %s, %s)\"\n",
        "\n",
        "data_transaction = [(\"1\",\"2\",\"1\",\"2019-02-3\"),\n",
        "                    (\"2\",\"2\",\"1\",\"2019-02-3\"),\n",
        "                    (\"3\",\"3\",\"2\",\"2019-02-4\"),\n",
        "                    (\"4\",\"1\",\"3\",\"2019-02-3\"),\n",
        "                    (\"5\",\"2\",\"4\",\"2019-02-3\")]\n",
        "\n",
        "try:\n",
        "    cur.executemany(query_transaction,data_transaction)\n",
        "except psy.Error as e: \n",
        "    print(\"Error: Inserting Rows\")\n",
        "    print (e)\n",
        "\n",
        "    \n",
        "#Items table values insert\n",
        "query_item = \"INSERT INTO Items (Item_ID, Item_name, Price) VALUES (%s, %s, %s)\"\n",
        "\n",
        "data_item = [(\"1\",\"Wall Mirror\",8500),\n",
        "            (\"2\",\"Master Plastic Chair\",2300),\n",
        "            (\"3\",\"Shoe Rack\",4500)]\n",
        "\n",
        "try:\n",
        "    cur.executemany(query_item,data_item)\n",
        "except psy.Error as e: \n",
        "    print(\"Error: Inserting Rows\")\n",
        "    print (e)\n",
        "\n"
      ],
      "execution_count": 0,
      "outputs": []
    },
    {
      "cell_type": "markdown",
      "metadata": {
        "id": "i6ednfy90Mrc",
        "colab_type": "text"
      },
      "source": [
        "#### Performing Queries"
      ]
    },
    {
      "cell_type": "code",
      "metadata": {
        "id": "_zr63Ie10Mrd",
        "colab_type": "code",
        "colab": {},
        "outputId": "513865a5-ef7b-4084-cc8c-fc94612f78fa"
      },
      "source": [
        "query_a=\"select Customer_Details.Customer_ID,\\\n",
        "            Customer_Details.Customer_name,\\\n",
        "            sum(Price)as pp \\\n",
        "            from Customer_Details \\\n",
        "            JOIN Transactions \\\n",
        "            ON Customer_Details.Customer_ID=Transactions.Customer_ID \\\n",
        "            JOIN Items \\\n",
        "            ON Transactions.Item_ID=Items.Item_ID \\\n",
        "            group by Customer_Details.Customer_ID,Customer_Details.Customer_name \\\n",
        "            having sum(Price)>=3000 ;\"\n",
        "cur.execute(query_a)\n",
        "rows=cur.fetchall()\n",
        "for row in rows:\n",
        "    print(row)"
      ],
      "execution_count": 0,
      "outputs": [
        {
          "output_type": "stream",
          "text": [
            "('1', 'Ahmad', 4600)\n",
            "('2', 'Ali', 4500)\n",
            "('3', 'Faisal', 8500)\n"
          ],
          "name": "stdout"
        }
      ]
    },
    {
      "cell_type": "code",
      "metadata": {
        "id": "mysOZfx80Mrl",
        "colab_type": "code",
        "colab": {},
        "outputId": "852ba514-e802-48c2-9d71-8d3e9e5a1b36"
      },
      "source": [
        "query_b=\"Select * from Customer_details where City = 'Lahore'\"\n",
        "cur.execute(query_b)\n",
        "rows=cur.fetchall()\n",
        "for row in rows:\n",
        "    print(row)"
      ],
      "execution_count": 0,
      "outputs": [
        {
          "output_type": "stream",
          "text": [
            "('1', 'Ahmad', '52-A Main Street', 'Lahore', 'Pakistan')\n",
            "('4', 'Mudassir', '42 XX,Phase x', 'Lahore', 'Pakistan')\n"
          ],
          "name": "stdout"
        }
      ]
    },
    {
      "cell_type": "markdown",
      "metadata": {
        "id": "kFMESF330Mrs",
        "colab_type": "text"
      },
      "source": [
        "#### here i changed 5000 to 4000 becuase When I try to perform a  query, It return empty list"
      ]
    },
    {
      "cell_type": "code",
      "metadata": {
        "id": "WRpPV7Bf0Mru",
        "colab_type": "code",
        "colab": {},
        "outputId": "9ea050c5-3abf-4145-c701-1fc2d8bdbf65"
      },
      "source": [
        "query_c=\"select Customer_Details.Customer_ID,\\\n",
        "            Customer_Details.Customer_name,\\\n",
        "            sum(Price)as pp \\\n",
        "            from Customer_Details \\\n",
        "            JOIN Transactions \\\n",
        "            ON Customer_Details.Customer_ID=Transactions.Customer_ID \\\n",
        "            JOIN Items \\\n",
        "            ON Transactions.Item_ID=Items.Item_ID \\\n",
        "            where City='Lahore' \\\n",
        "            group by Customer_Details.Customer_ID,Customer_Details.Customer_name \\\n",
        "            having sum(Price)>=4000 ;\"\n",
        "cur.execute(query_c)\n",
        "rows=cur.fetchall()\n",
        "for row in rows:\n",
        "    print(row)"
      ],
      "execution_count": 0,
      "outputs": [
        {
          "output_type": "stream",
          "text": [
            "('1', 'Ahmad', 4600)\n"
          ],
          "name": "stdout"
        }
      ]
    },
    {
      "cell_type": "markdown",
      "metadata": {
        "id": "fwjInK7U0Mrz",
        "colab_type": "text"
      },
      "source": [
        "#### I changed your query Lahore with Antwerp (bcz When I try to query Lahore It returns empty list)"
      ]
    },
    {
      "cell_type": "code",
      "metadata": {
        "id": "R8hbz3wX0Mr0",
        "colab_type": "code",
        "colab": {},
        "outputId": "a36189e9-5e6a-430b-dbc2-ac5c6c30297f"
      },
      "source": [
        "\n",
        "query_d=\"select (Customer_Details.Customer_name,Customer_Details.City,Customer_Details.Country,Items.Item_name)\\\n",
        "                                FROM Customer_Details \\\n",
        "                                JOIN Transactions \\\n",
        "                                ON Customer_Details.Customer_ID=Transactions.Customer_ID \\\n",
        "                                JOIN Items \\\n",
        "                                ON Transactions.Item_ID=Items.Item_ID \\\n",
        "                                WHERE Customer_Details.City='Antwerp' AND Items.Item_name='Wall Mirror';\"\n",
        "cur.execute(query_d)\n",
        "rows=cur.fetchall()\n",
        "for row in rows:\n",
        "    print(row)"
      ],
      "execution_count": 0,
      "outputs": [
        {
          "output_type": "stream",
          "text": [
            "('(Faisal,Antwerp,Belgium,\"Wall Mirror\")',)\n"
          ],
          "name": "stdout"
        }
      ]
    },
    {
      "cell_type": "code",
      "metadata": {
        "id": "ufedFJ7S0Mr7",
        "colab_type": "code",
        "colab": {},
        "outputId": "15fe641c-3f69-486e-e02a-730f83d71b29"
      },
      "source": [
        "#EXtract is function of PostgreSQL\n",
        "query_e=\"SELECT Customer_Details.Customer_name,Transactions.Transaction_ID,Transactions.Time \\\n",
        "                                FROM Customer_Details \\\n",
        "                                JOIN Transactions ON Customer_Details.Customer_ID=Transactions.Customer_ID \\\n",
        "                                where  EXTRACT(MONTH FROM Time)=02 AND EXTRACT(DAY FROM Time)=03;\"\n",
        "cur.execute(query_e)\n",
        "rows=cur.fetchall()\n",
        "for row in rows:\n",
        "    print(row)"
      ],
      "execution_count": 0,
      "outputs": [
        {
          "output_type": "stream",
          "text": [
            "('Ahmad', '1', datetime.date(2019, 2, 3))\n",
            "('Ahmad', '2', datetime.date(2019, 2, 3))\n",
            "('Faisal', '4', datetime.date(2019, 2, 3))\n",
            "('Mudassir', '5', datetime.date(2019, 2, 3))\n"
          ],
          "name": "stdout"
        }
      ]
    },
    {
      "cell_type": "markdown",
      "metadata": {
        "id": "9G-lxqAw0MsA",
        "colab_type": "text"
      },
      "source": [
        "#### Close cursor and Connection"
      ]
    },
    {
      "cell_type": "code",
      "metadata": {
        "id": "xjIPSuOr0MsB",
        "colab_type": "code",
        "colab": {}
      },
      "source": [
        "cur.close()\n",
        "conn.close()"
      ],
      "execution_count": 0,
      "outputs": []
    }
  ]
}